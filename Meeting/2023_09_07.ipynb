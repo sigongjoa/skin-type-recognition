{
 "cells": [
  {
   "cell_type": "markdown",
   "id": "0cf94d07",
   "metadata": {},
   "source": [
    "# 2023_09_07\n",
    "\n",
    "### Unet in segmentation_models_pytorch\n",
    "\n",
    "> segmentation_models_pytorch : https://github.com/qubvel/segmentation_models.pytorch\n",
    "\n",
    "위 라이브러리를 pytorch에서 여러 segemenation을 할 수 있는 라이브러리임  \n",
    "\n",
    "여기에서 우리의 셋팅에 맞게 \n",
    "`eifficeintnet`을 encocder로 `Unet`을 학습을 시킴   \n",
    "\n",
    "> training notebook : http://202.31.200.194:8888/notebooks/NPLAB-NAS/Members/SEO/skin-type/segmentation_models/segmentation_models_pytorch_test.ipynb\n",
    "\n",
    "> tensorboard : http://202.31.200.70:8888/notebooks/NPLAB-NAS/Members/SEO/skin-type/segmentation_models/tensorboard.ipynb\n",
    "\n",
    "> infercnec : http://202.31.200.194:8888/notebooks/NPLAB-NAS/Members/SEO/skin-type/segmentation_models/infrence.ipynb\n",
    "\n",
    "\n",
    "\n",
    "* training \n",
    "\n",
    "\n",
    "각 label(backgournd, pore, wrinkle)에 대해서 640 * 640인 이미지에 대허서 분리를 해서 3 * 640 * 640 으로 label을 변경  \n",
    "\n",
    "loss 계산 부분을 현재 채녈별로 loss를 계산하고 있음 (R chaneel - backgounrd channel)  \n",
    "이를 3차원의 RGB에 대해서 각 label channeel 별로 계산이 필요  \n",
    "이때 aggregate 함수를 어떻게 할지 생각중  \n",
    "RGB의 3차원 원본 이미지를 mean, max중에서 어떻게 해야 할지가 고민  "
   ]
  },
  {
   "cell_type": "code",
   "execution_count": null,
   "id": "457751d8",
   "metadata": {},
   "outputs": [],
   "source": []
  }
 ],
 "metadata": {
  "kernelspec": {
   "display_name": "Python 3",
   "language": "python",
   "name": "python3"
  },
  "language_info": {
   "codemirror_mode": {
    "name": "ipython",
    "version": 3
   },
   "file_extension": ".py",
   "mimetype": "text/x-python",
   "name": "python",
   "nbconvert_exporter": "python",
   "pygments_lexer": "ipython3",
   "version": "3.8.10"
  }
 },
 "nbformat": 4,
 "nbformat_minor": 5
}
