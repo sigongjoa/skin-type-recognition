{
 "cells": [
  {
   "cell_type": "markdown",
   "id": "55acfcaa",
   "metadata": {},
   "source": [
    "# 2023_09_12 \n",
    "\n",
    "\n",
    "### lable fix\n",
    "\n",
    "\n",
    "기존에는 label을 다 분리해서 3*640*640 으로 학습을 했음  \n",
    "이는 binary cross entropy를 이용해서 학습을 하므로 각각의 모델을 3개를 분리해서 학습을 하는 상태였음  \n",
    "이를 다시 cross entropy를 이용해서 각 픽셀별로 class를 분류 할 수 있도록 만듬  \n",
    "\n",
    "\n",
    "> train_notebook : http://202.31.200.194:8888/notebooks/NPLAB-NAS/Members/SEO/skin-type/segmentation_models/segmentation_models_pytorch_test.ipynb#model-training\n",
    "\n",
    "> tensorboard : http://202.31.200.70:8888/notebooks/NPLAB-NAS/Members/SEO/skin-type/segmentation_models/tensorboard.ipynb\n",
    "\n",
    "결과를 시각화하고 예측 이미지에 대해서 각 class 별로 miou를 계산함  \n",
    "\n",
    "> infernce : http://202.31.200.194:8888/notebooks/NPLAB-NAS/Members/SEO/skin-type/segmentation_models/infrence.ipynb\n",
    "\n",
    "> result image folder : http://202.31.200.194:8888/tree/NPLAB-NAS/Members/SEO/skin-type/segmentation_models/result/2023_09_09_init_test\n",
    "\n",
    "\n",
    "예측을 잘 하고 있지는 않은 상태임  \n",
    "이미지 모공은 어느정도 예측을 하지만 주름의 경우에는 예측을 잘 하지 못함  \n",
    "실제 이미지 두 이미지를 비교했을 때 원본의 이미지 상에서 주름이 잘 나타지 않아서 그런 것 같음  "
   ]
  },
  {
   "cell_type": "markdown",
   "id": "ff75c53a",
   "metadata": {},
   "source": [
    "![](../segmentation_models/result/2023_09_09_init_test/image_1.png)\n",
    "![](../segmentation_models/result/2023_09_09_init_test/image_98.png)"
   ]
  },
  {
   "cell_type": "code",
   "execution_count": null,
   "id": "95b97adf",
   "metadata": {},
   "outputs": [],
   "source": []
  }
 ],
 "metadata": {
  "kernelspec": {
   "display_name": "Python 3",
   "language": "python",
   "name": "python3"
  },
  "language_info": {
   "codemirror_mode": {
    "name": "ipython",
    "version": 3
   },
   "file_extension": ".py",
   "mimetype": "text/x-python",
   "name": "python",
   "nbconvert_exporter": "python",
   "pygments_lexer": "ipython3",
   "version": "3.8.10"
  }
 },
 "nbformat": 4,
 "nbformat_minor": 5
}
