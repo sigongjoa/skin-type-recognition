{
 "cells": [
  {
   "cell_type": "markdown",
   "id": "4ea2a860",
   "metadata": {},
   "source": [
    "# 2023_09_14\n",
    "\n",
    "기존의 loss 계산 부분 및 결과 시각화 하는 코드는 완성  \n",
    "하지만 data imblance 문제가 있어서 기존의 cross entory 에서 focal loss로 변경해서 학습이 필요  "
   ]
  },
  {
   "cell_type": "code",
   "execution_count": null,
   "id": "35b88574",
   "metadata": {},
   "outputs": [],
   "source": []
  }
 ],
 "metadata": {
  "kernelspec": {
   "display_name": "Python 3",
   "language": "python",
   "name": "python3"
  },
  "language_info": {
   "codemirror_mode": {
    "name": "ipython",
    "version": 3
   },
   "file_extension": ".py",
   "mimetype": "text/x-python",
   "name": "python",
   "nbconvert_exporter": "python",
   "pygments_lexer": "ipython3",
   "version": "3.8.10"
  }
 },
 "nbformat": 4,
 "nbformat_minor": 5
}
