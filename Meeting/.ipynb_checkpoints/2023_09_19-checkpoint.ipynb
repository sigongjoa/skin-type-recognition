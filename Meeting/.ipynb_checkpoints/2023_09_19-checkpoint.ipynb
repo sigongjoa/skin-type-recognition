{
 "cells": [
  {
   "cell_type": "markdown",
   "id": "7654afef",
   "metadata": {},
   "source": [
    "# 2023_09_19\n",
    "\n",
    "기존의 effientUNet은 성능이 안좋아서 HRNet + OCR 모델을 이용해서 학습을 진행  \n",
    "\n",
    "> test notebook : http://202.31.200.194:8888/notebooks/NPLAB-NAS/Members/SEO/skin-type/HRNet-Semantic-Segmentation/lib/test.ipynb\n",
    "\n",
    "코드는 어느정도 완성을 했으나 output이 맞지 않아서 학습이 어려움이 있음  \n",
    "\n",
    "* output size\n",
    "\n",
    "640 * 640 이미지를 모델에 넣으면 160 * 160 크기가됨  \n",
    "\n",
    "이를 해결하기 위해서 model_summary를 이용해서 어디에서 크기를 줄이는지 확인이 필요함  \n",
    "모델의 구조를 봤을때는 모델의 크기를 줄이고 다시 키우는데에 문제가 없음  \n",
    "\n",
    "* outupt shape\n",
    "[batch, 3, width, height]의 출력이 나와야 하는데 [batch, 19, width, height]로 나오고 있음  \n",
    "\n",
    "이를 해결 하기위해서 fine-tuing을 구성해야함  \n",
    "모델의 끝 부분 layer를 바꿔서 현재의 데이터셋에 맞도록 변경을 해야함  \n",
    "이때 바꿘 부분만 학습을하고 기존의 weight는 수정이 되지 않도록 변경을 해야함  \n",
    "\n",
    "pre-trianed 모델으 만들기 위해서는 이미 가져온 위성 사진으로 pre-trained weight를 만들고 이를 skin dataset에서 학습을 진행  "
   ]
  },
  {
   "cell_type": "code",
   "execution_count": null,
   "id": "826c93ed",
   "metadata": {},
   "outputs": [],
   "source": []
  }
 ],
 "metadata": {
  "kernelspec": {
   "display_name": "Python 3",
   "language": "python",
   "name": "python3"
  },
  "language_info": {
   "codemirror_mode": {
    "name": "ipython",
    "version": 3
   },
   "file_extension": ".py",
   "mimetype": "text/x-python",
   "name": "python",
   "nbconvert_exporter": "python",
   "pygments_lexer": "ipython3",
   "version": "3.8.10"
  }
 },
 "nbformat": 4,
 "nbformat_minor": 5
}
