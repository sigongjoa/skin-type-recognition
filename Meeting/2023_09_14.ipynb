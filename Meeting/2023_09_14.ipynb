{
 "cells": [
  {
   "cell_type": "markdown",
   "id": "6f27908c",
   "metadata": {},
   "source": [
    "# 2023_09_14\n",
    "\n",
    "기존의 loss 계산 부분 및 결과 시각화 하는 코드는 완성  \n",
    "하지만 data imblance 문제가 있어서 기존의 cross entory 에서 focal loss로 변경해서 학습이 필요  \n",
    "\n",
    "### focal loss\n",
    "\n",
    "\n",
    "> http://202.31.200.194:8888/edit/NPLAB-NAS/Members/SEO/skin-type/segmentation_models/training_result_focal_loss.py\n",
    "\n",
    "기존의 코드보다 더 예측을 잘하고 있음  \n",
    "기존 코드는 background 부분을 더 잘 예측을 하고 있음  \n",
    "적어도 학습을 하고 있다고 볼 수 있음  \n",
    "![](../segmentation_models/result/2023_09_13_focal_loss/image_0.png)\n",
    "\n",
    "### tversky loss\n",
    "\n",
    "> http://202.31.200.194:8888/edit/NPLAB-NAS/Members/SEO/skin-type/segmentation_models/training_result_tversky_loss.py\n",
    "\n",
    "focal loss 보다는 성능이 안나옴  \n",
    "![](../segmentation_models/result/2023_09_13_Tversky_loss/image_0.png)\n",
    "\n",
    "### concate loss\n",
    "\n",
    "이것도 focal loss보다는 성능이 안나옴  \n",
    "\n",
    "> http://202.31.200.194:8888/edit/NPLAB-NAS/Members/SEO/skin-type/segmentation_models/training_result_concate_loss.py\n",
    "\n",
    "![](../segmentation_models/result/2023_09_13_concate_loss/image_0.png)\n",
    "\n",
    "\n"
   ]
  },
  {
   "cell_type": "markdown",
   "id": "2b97026a",
   "metadata": {},
   "source": [
    "각 loss별 class에 대한 miou\n",
    "\n",
    "<table border=\"1\" class=\"dataframe\">  <thead>    <tr style=\"text-align: right;\">      <th></th>      <th>folder</th>      <th>background_miou_mean</th>      <th>pore_miou_mean</th>      <th>wrinkle_miou_mean</th>    </tr>  </thead>  <tbody>    <tr>      <th>0</th>      <td>./result/2023_09_13_focal_loss</td>      <td>0.756202</td>      <td>0.000439</td>      <td>0.003948</td>    </tr>    <tr>      <th>1</th>      <td>./result/2023_09_13_Tversky_loss</td>      <td>0.337039</td>      <td>0.000835</td>      <td>0.003553</td>    </tr>    <tr>      <th>2</th>      <td>./result/2023_09_13_concate_loss</td>      <td>0.524902</td>      <td>0.000681</td>      <td>0.001957</td>    </tr>  </tbody></table>"
   ]
  },
  {
   "cell_type": "markdown",
   "id": "72a69cb8",
   "metadata": {},
   "source": [
    "### High-resolution networks and Segmentation Transformer for Semantic Segmentation\n",
    "\n",
    "기존의 EiffientUnet이 성능이 좋지 못함  \n",
    "\n",
    "아래의 HRnet 기반의 semnatic segmenation 모델을 사용해서 학습 진행  \n",
    "\n",
    "> https://github.com/HRNet/HRNet-Semantic-Segmentation\n",
    "\n",
    "다음과 같은 문제가 발생함  \n",
    "\n",
    "* image size \n",
    "\n",
    "640*640 이미지에 대하여 output이 160*160이 됨  \n",
    "\n",
    "* num_class\n",
    "\n",
    "기존의 dataset에서 num_class가 19임  \n",
    "config 파일을 수정해서 num_class를 3으로 바꾸면 shape이 맞지 않아서 모델이 load 되지 않음  \n",
    "\n",
    "기존의 output에서 classification layer를 추가해야 할 수 있음  "
   ]
  },
  {
   "cell_type": "code",
   "execution_count": null,
   "id": "4caa1902",
   "metadata": {},
   "outputs": [],
   "source": []
  }
 ],
 "metadata": {
  "kernelspec": {
   "display_name": "Python 3",
   "language": "python",
   "name": "python3"
  },
  "language_info": {
   "codemirror_mode": {
    "name": "ipython",
    "version": 3
   },
   "file_extension": ".py",
   "mimetype": "text/x-python",
   "name": "python",
   "nbconvert_exporter": "python",
   "pygments_lexer": "ipython3",
   "version": "3.8.10"
  }
 },
 "nbformat": 4,
 "nbformat_minor": 5
}
