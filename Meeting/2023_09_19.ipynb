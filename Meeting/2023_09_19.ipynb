{
 "cells": [
  {
   "cell_type": "markdown",
   "id": "6d590513",
   "metadata": {},
   "source": [
    "# 2023_09_19\n",
    "\n",
    "기존의 effientUNet은 성능이 안좋아서 HRNet + OCR 모델을 이용해서 학습을 진행  \n",
    "\n",
    "> High-resolution networks and Segmentation Transformer for Semantic Segmentation : https://github.com/HRNet/HRNet-Semantic-Segmentation/tree/HRNet-OCR?v=2\n",
    "\n",
    "> test notebook : http://202.31.200.194:8888/notebooks/NPLAB-NAS/Members/SEO/skin-type/HRNet-Semantic-Segmentation/lib/test.ipynb\n",
    "\n",
    "코드는 어느정도 완성을 했으나 output이 맞지 않아서 학습이 어려움이 있음  \n",
    "\n",
    "* output size\n",
    "\n",
    "640 * 640 이미지를 모델에 넣으면 160 * 160 크기가됨  \n",
    "\n",
    "이를 해결하기 위해서 model_summary를 이용해서 어디에서 크기를 줄이는지 확인이 필요함  \n",
    "모델의 구조를 봤을때는 모델의 크기를 줄이고 다시 키우는데에 문제가 없음  \n",
    "\n",
    "* outupt shape\n",
    "[batch, 3, width, height]의 출력이 나와야 하는데 [batch, 19, width, height]로 나오고 있음  \n",
    "\n",
    "이를 해결 하기위해서 fine-tuing을 구성해야함  \n",
    "모델의 끝 부분 layer를 바꿔서 현재의 데이터셋에 맞도록 변경을 해야함  \n",
    "이때 바꿘 부분만 학습을하고 기존의 weight는 수정이 되지 않도록 변경을 해야함  \n",
    "\n",
    "pre-trianed 모델으 만들기 위해서는 이미 가져온 위성 사진으로 pre-trained weight를 만들고 이를 skin dataset에서 학습을 진행  \n"
   ]
  },
  {
   "cell_type": "markdown",
   "id": "fdec0e18",
   "metadata": {},
   "source": [
    "### HRNet + OCR\n",
    "\n",
    "이 모델의 model_sumamry를 할려고 하니 list에러가 남  \n",
    "torch_summary 대신에 torch_summaryX를 이용해서 해결함  \n",
    "\n",
    "> http://202.31.200.194:8888/notebooks/NPLAB-NAS/Members/SEO/skin-type/HRNet-Semantic-Segmentation/lib/test_09_15.ipynb\n",
    "\n",
    "하지만 output_stride가 4이여서 사용하기 부적함한 모델이여서 다른 모델로 테스트  "
   ]
  },
  {
   "cell_type": "markdown",
   "id": "9d2338c7",
   "metadata": {},
   "source": [
    "### DUCK-net\n",
    "\n",
    "> https://github.com/RazvanDu/DUCK-Net\n",
    "\n",
    "지금은 모델의 이해보다는 모델에서 결과를 내는게 중요하기때문에 네트워크 리뷰는 패스하고 실제로 학습을 돌림  \n",
    "\n",
    "모델의 학습 코드는 완성했으나 OOM  \n",
    "pre-trained weight가 없어서 사용하기가 애매함  \n",
    "\n",
    "> http://202.31.200.194:8888/notebooks/NPLAB-NAS/Members/SEO/skin-type/DUCK-Net/test.ipynb"
   ]
  },
  {
   "cell_type": "code",
   "execution_count": null,
   "id": "849bcc8c",
   "metadata": {},
   "outputs": [],
   "source": []
  }
 ],
 "metadata": {
  "kernelspec": {
   "display_name": "Python 3",
   "language": "python",
   "name": "python3"
  },
  "language_info": {
   "codemirror_mode": {
    "name": "ipython",
    "version": 3
   },
   "file_extension": ".py",
   "mimetype": "text/x-python",
   "name": "python",
   "nbconvert_exporter": "python",
   "pygments_lexer": "ipython3",
   "version": "3.8.10"
  }
 },
 "nbformat": 4,
 "nbformat_minor": 5
}
