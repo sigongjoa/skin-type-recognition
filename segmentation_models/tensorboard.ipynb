{
 "cells": [
  {
   "cell_type": "code",
   "execution_count": 1,
   "id": "8e848b0c",
   "metadata": {},
   "outputs": [
    {
     "data": {
      "text/plain": [
       "['version_0',\n",
       " 'version_1',\n",
       " 'version_2',\n",
       " 'version_3',\n",
       " 'version_4',\n",
       " 'version_5',\n",
       " 'version_6',\n",
       " 'version_7',\n",
       " 'version_8']"
      ]
     },
     "execution_count": 1,
     "metadata": {},
     "output_type": "execute_result"
    }
   ],
   "source": [
    "import os\n",
    "\n",
    "from natsort import natsorted\n",
    "natsorted(os.listdir('./lightning_logs'))"
   ]
  },
  {
   "cell_type": "code",
   "execution_count": 2,
   "id": "2750bab0",
   "metadata": {},
   "outputs": [],
   "source": [
    "%reload_ext tensorboard"
   ]
  },
  {
   "cell_type": "code",
   "execution_count": 3,
   "id": "83ed2d65",
   "metadata": {},
   "outputs": [
    {
     "data": {
      "text/plain": [
       "ERROR: Failed to launch TensorBoard (exited with 1).\n",
       "Contents of stderr:\n",
       "2023-09-07 12:48:08.118457: I tensorflow/core/util/port.cc:110] oneDNN custom operations are on. You may see slightly different numerical results due to floating-point round-off errors from different computation orders. To turn them off, set the environment variable `TF_ENABLE_ONEDNN_OPTS=0`.\n",
       "2023-09-07 12:48:08.147863: I tensorflow/core/platform/cpu_feature_guard.cc:182] This TensorFlow binary is optimized to use available CPU instructions in performance-critical operations.\n",
       "To enable the following instructions: AVX2 AVX512F AVX512_VNNI FMA, in other operations, rebuild TensorFlow with the appropriate compiler flags.\n",
       "2023-09-07 12:48:08.543789: W tensorflow/compiler/tf2tensorrt/utils/py_utils.cc:38] TF-TRT Warning: Could not find TensorRT\n",
       "2023-09-07 12:48:09.504970: I tensorflow/compiler/xla/stream_executor/cuda/cuda_gpu_executor.cc:996] successful NUMA node read from SysFS had negative value (-1), but there must be at least one NUMA node, so returning NUMA node zero. See more at https://github.com/torvalds/linux/blob/v6.0/Documentation/ABI/testing/sysfs-bus-pci#L344-L355\n",
       "2023-09-07 12:48:09.505169: I tensorflow/compiler/xla/stream_executor/cuda/cuda_gpu_executor.cc:996] successful NUMA node read from SysFS had negative value (-1), but there must be at least one NUMA node, so returning NUMA node zero. See more at https://github.com/torvalds/linux/blob/v6.0/Documentation/ABI/testing/sysfs-bus-pci#L344-L355\n",
       "2023-09-07 12:48:09.578369: I tensorflow/compiler/xla/stream_executor/cuda/cuda_gpu_executor.cc:996] successful NUMA node read from SysFS had negative value (-1), but there must be at least one NUMA node, so returning NUMA node zero. See more at https://github.com/torvalds/linux/blob/v6.0/Documentation/ABI/testing/sysfs-bus-pci#L344-L355\n",
       "2023-09-07 12:48:09.578722: I tensorflow/compiler/xla/stream_executor/cuda/cuda_gpu_executor.cc:996] successful NUMA node read from SysFS had negative value (-1), but there must be at least one NUMA node, so returning NUMA node zero. See more at https://github.com/torvalds/linux/blob/v6.0/Documentation/ABI/testing/sysfs-bus-pci#L344-L355\n",
       "2023-09-07 12:48:09.578944: I tensorflow/compiler/xla/stream_executor/cuda/cuda_gpu_executor.cc:996] successful NUMA node read from SysFS had negative value (-1), but there must be at least one NUMA node, so returning NUMA node zero. See more at https://github.com/torvalds/linux/blob/v6.0/Documentation/ABI/testing/sysfs-bus-pci#L344-L355\n",
       "2023-09-07 12:48:09.579155: I tensorflow/compiler/xla/stream_executor/cuda/cuda_gpu_executor.cc:996] successful NUMA node read from SysFS had negative value (-1), but there must be at least one NUMA node, so returning NUMA node zero. See more at https://github.com/torvalds/linux/blob/v6.0/Documentation/ABI/testing/sysfs-bus-pci#L344-L355\n",
       "Exception in thread Reloader:\n",
       "Traceback (most recent call last):\n",
       "  File \"/usr/lib/python3.8/threading.py\", line 932, in _bootstrap_inner\n",
       "    self.run()\n",
       "  File \"/usr/lib/python3.8/threading.py\", line 870, in run\n",
       "    self._target(*self._args, **self._kwargs)\n",
       "  File \"/home/nplab/.local/lib/python3.8/site-packages/tensorboard/backend/application.py\", line 504, in _reload\n",
       "    multiplexer.Reload()\n",
       "  File \"/home/nplab/.local/lib/python3.8/site-packages/tensorboard/backend/event_processing/plugin_event_multiplexer.py\", line 246, in Reload\n",
       "    Worker()\n",
       "  File \"/home/nplab/.local/lib/python3.8/site-packages/tensorboard/backend/event_processing/plugin_event_multiplexer.py\", line 224, in Worker\n",
       "    accumulator.Reload()\n",
       "  File \"/home/nplab/.local/lib/python3.8/site-packages/tensorboard/backend/event_processing/plugin_event_accumulator.py\", line 177, in Reload\n",
       "    for event in self._generator.Load():\n",
       "  File \"/home/nplab/.local/lib/python3.8/site-packages/tensorboard/backend/event_processing/directory_watcher.py\", line 89, in Load\n",
       "    for event in self._LoadInternal():\n",
       "  File \"/home/nplab/.local/lib/python3.8/site-packages/tensorboard/backend/event_processing/directory_watcher.py\", line 109, in _LoadInternal\n",
       "    self._InitializeLoader()\n",
       "  File \"/home/nplab/.local/lib/python3.8/site-packages/tensorboard/backend/event_processing/directory_watcher.py\", line 168, in _InitializeLoader\n",
       "    self._SetPath(path)\n",
       "  File \"/home/nplab/.local/lib/python3.8/site-packages/tensorboard/backend/event_processing/directory_watcher.py\", line 192, in _SetPath\n",
       "    self._loader = self._loader_factory(path)\n",
       "  File \"/home/nplab/.local/lib/python3.8/site-packages/tensorboard/backend/event_processing/event_file_loader.py\", line 42, in __init__\n",
       "    self._reader = _pywrap_tensorflow.PyRecordReader_New(\n",
       "  File \"/home/nplab/.local/lib/python3.8/site-packages/tensorboard/lazy.py\", line 65, in __getattr__\n",
       "    return getattr(load_once(self), attr_name)\n",
       "AttributeError: module 'tensorflow.python.pywrap_tensorflow' has no attribute 'PyRecordReader_New'\n",
       "Traceback (most recent call last):\n",
       "  File \"/home/nplab/.local/bin/tensorboard\", line 8, in <module>\n",
       "    sys.exit(run_main())\n",
       "  File \"/home/nplab/.local/lib/python3.8/site-packages/tensorboard/main.py\", line 64, in run_main\n",
       "    app.run(tensorboard.main, flags_parser=tensorboard.configure)\n",
       "  File \"/home/nplab/.local/lib/python3.8/site-packages/absl/app.py\", line 308, in run\n",
       "    _run_main(main, args)\n",
       "  File \"/home/nplab/.local/lib/python3.8/site-packages/absl/app.py\", line 254, in _run_main\n",
       "    sys.exit(main(argv))\n",
       "  File \"/home/nplab/.local/lib/python3.8/site-packages/tensorboard/program.py\", line 220, in main\n",
       "    server = self._make_server()\n",
       "  File \"/home/nplab/.local/lib/python3.8/site-packages/tensorboard/program.py\", line 297, in _make_server\n",
       "    app = application.standard_tensorboard_wsgi(self.flags,\n",
       "  File \"/home/nplab/.local/lib/python3.8/site-packages/tensorboard/backend/application.py\", line 156, in standard_tensorboard_wsgi\n",
       "    return TensorBoardWSGIApp(\n",
       "  File \"/home/nplab/.local/lib/python3.8/site-packages/tensorboard/backend/application.py\", line 225, in TensorBoardWSGIApp\n",
       "    return TensorBoardWSGI(tbplugins, flags.path_prefix)\n",
       "  File \"/home/nplab/.local/lib/python3.8/site-packages/tensorboard/backend/application.py\", line 277, in __init__\n",
       "    raise ValueError('Duplicate plugins for name %s' % plugin.plugin_name)\n",
       "ValueError: Duplicate plugins for name projector"
      ]
     },
     "metadata": {},
     "output_type": "display_data"
    }
   ],
   "source": [
    "%tensorboard --logdir './lightning_logs/' --bind_all"
   ]
  },
  {
   "cell_type": "code",
   "execution_count": null,
   "id": "8491a0e9",
   "metadata": {},
   "outputs": [],
   "source": []
  }
 ],
 "metadata": {
  "kernelspec": {
   "display_name": "Python 3",
   "language": "python",
   "name": "python3"
  },
  "language_info": {
   "codemirror_mode": {
    "name": "ipython",
    "version": 3
   },
   "file_extension": ".py",
   "mimetype": "text/x-python",
   "name": "python",
   "nbconvert_exporter": "python",
   "pygments_lexer": "ipython3",
   "version": "3.8.10"
  }
 },
 "nbformat": 4,
 "nbformat_minor": 5
}
