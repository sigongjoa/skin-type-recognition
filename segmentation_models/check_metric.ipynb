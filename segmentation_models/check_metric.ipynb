{
 "cells": [
  {
   "cell_type": "code",
   "execution_count": 5,
   "id": "7ee2929b",
   "metadata": {},
   "outputs": [],
   "source": [
    "import pandas as pd\n"
   ]
  },
  {
   "cell_type": "code",
   "execution_count": 3,
   "id": "38d16268",
   "metadata": {},
   "outputs": [
    {
     "data": {
      "text/plain": [
       "['.ipynb_checkpoints',\n",
       " '2023_09_13_init_test',\n",
       " '2023_09_13_concate_loss',\n",
       " '2023_09_09_init_test',\n",
       " '2023_09_13_focal_loss',\n",
       " '2023_09_13_Tversky_loss']"
      ]
     },
     "execution_count": 3,
     "metadata": {},
     "output_type": "execute_result"
    }
   ],
   "source": [
    "os.listdir('./result')"
   ]
  },
  {
   "cell_type": "code",
   "execution_count": 12,
   "id": "b3224664",
   "metadata": {},
   "outputs": [
    {
     "data": {
      "text/html": [
       "<div>\n",
       "<style scoped>\n",
       "    .dataframe tbody tr th:only-of-type {\n",
       "        vertical-align: middle;\n",
       "    }\n",
       "\n",
       "    .dataframe tbody tr th {\n",
       "        vertical-align: top;\n",
       "    }\n",
       "\n",
       "    .dataframe thead th {\n",
       "        text-align: right;\n",
       "    }\n",
       "</style>\n",
       "<table border=\"1\" class=\"dataframe\">\n",
       "  <thead>\n",
       "    <tr style=\"text-align: right;\">\n",
       "      <th></th>\n",
       "      <th>folder</th>\n",
       "      <th>background_miou_mean</th>\n",
       "      <th>pore_miou_mean</th>\n",
       "      <th>wrinkle_miou_mean</th>\n",
       "    </tr>\n",
       "  </thead>\n",
       "  <tbody>\n",
       "    <tr>\n",
       "      <th>0</th>\n",
       "      <td>./result/2023_09_13_focal_loss</td>\n",
       "      <td>0.756202</td>\n",
       "      <td>0.000439</td>\n",
       "      <td>0.003948</td>\n",
       "    </tr>\n",
       "    <tr>\n",
       "      <th>1</th>\n",
       "      <td>./result/2023_09_13_Tversky_loss</td>\n",
       "      <td>0.337039</td>\n",
       "      <td>0.000835</td>\n",
       "      <td>0.003553</td>\n",
       "    </tr>\n",
       "    <tr>\n",
       "      <th>2</th>\n",
       "      <td>./result/2023_09_13_concate_loss</td>\n",
       "      <td>0.524902</td>\n",
       "      <td>0.000681</td>\n",
       "      <td>0.001957</td>\n",
       "    </tr>\n",
       "  </tbody>\n",
       "</table>\n",
       "</div>"
      ],
      "text/plain": [
       "                             folder  background_miou_mean  pore_miou_mean  \\\n",
       "0    ./result/2023_09_13_focal_loss              0.756202        0.000439   \n",
       "1  ./result/2023_09_13_Tversky_loss              0.337039        0.000835   \n",
       "2  ./result/2023_09_13_concate_loss              0.524902        0.000681   \n",
       "\n",
       "   wrinkle_miou_mean  \n",
       "0           0.003948  \n",
       "1           0.003553  \n",
       "2           0.001957  "
      ]
     },
     "execution_count": 12,
     "metadata": {},
     "output_type": "execute_result"
    }
   ],
   "source": [
    "import pandas as pd\n",
    "\n",
    "mean_values = []\n",
    "for folder in ['./result/2023_09_13_focal_loss', './result/2023_09_13_Tversky_loss', './result/2023_09_13_concate_loss']:\n",
    "    data = pd.read_csv(f'{folder}/miou.csv')\n",
    "    \n",
    "    mean_dict = {\n",
    "        \"folder\": folder,\n",
    "        \"background_miou_mean\": data['background_miou'].mean(),\n",
    "        \"pore_miou_mean\": data['pore_miou'].mean(),\n",
    "        \"wrinkle_miou_mean\": data['wrinkle_miou'].mean()\n",
    "    }\n",
    "    mean_values.append(mean_dict)\n",
    "\n",
    "mean_df = pd.DataFrame(mean_values)\n",
    "mean_df"
   ]
  },
  {
   "cell_type": "code",
   "execution_count": 13,
   "id": "35a3da8b",
   "metadata": {},
   "outputs": [
    {
     "data": {
      "text/plain": [
       "'<table border=\"1\" class=\"dataframe\">\\n  <thead>\\n    <tr style=\"text-align: right;\">\\n      <th></th>\\n      <th>folder</th>\\n      <th>background_miou_mean</th>\\n      <th>pore_miou_mean</th>\\n      <th>wrinkle_miou_mean</th>\\n    </tr>\\n  </thead>\\n  <tbody>\\n    <tr>\\n      <th>0</th>\\n      <td>./result/2023_09_13_focal_loss</td>\\n      <td>0.756202</td>\\n      <td>0.000439</td>\\n      <td>0.003948</td>\\n    </tr>\\n    <tr>\\n      <th>1</th>\\n      <td>./result/2023_09_13_Tversky_loss</td>\\n      <td>0.337039</td>\\n      <td>0.000835</td>\\n      <td>0.003553</td>\\n    </tr>\\n    <tr>\\n      <th>2</th>\\n      <td>./result/2023_09_13_concate_loss</td>\\n      <td>0.524902</td>\\n      <td>0.000681</td>\\n      <td>0.001957</td>\\n    </tr>\\n  </tbody>\\n</table>'"
      ]
     },
     "execution_count": 13,
     "metadata": {},
     "output_type": "execute_result"
    }
   ],
   "source": [
    "mean_df.to_html()"
   ]
  }
 ],
 "metadata": {
  "kernelspec": {
   "display_name": "Python 3",
   "language": "python",
   "name": "python3"
  },
  "language_info": {
   "codemirror_mode": {
    "name": "ipython",
    "version": 3
   },
   "file_extension": ".py",
   "mimetype": "text/x-python",
   "name": "python",
   "nbconvert_exporter": "python",
   "pygments_lexer": "ipython3",
   "version": "3.8.10"
  }
 },
 "nbformat": 4,
 "nbformat_minor": 5
}
